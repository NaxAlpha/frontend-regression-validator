{
 "cells": [
  {
   "cell_type": "markdown",
   "metadata": {},
   "source": [
    "### This is an example of how to start scraping websites"
   ]
  },
  {
   "cell_type": "markdown",
   "metadata": {},
   "source": [
    "Run parallel_pipelines.py with the following arguments \n",
    "* num-processes -> number of parallel processes\n",
    "* output-folder -> output folder destination"
   ]
  },
  {
   "cell_type": "code",
   "execution_count": 1,
   "metadata": {},
   "outputs": [
    {
     "name": "stdout",
     "output_type": "stream",
     "text": [
      "/Library/Frameworks/Python.framework/Versions/3.7/Resources/Python.app/Contents/MacOS/Python: can't open file 'parallel_pipelines.py': [Errno 2] No such file or directory\r\n"
     ]
    }
   ],
   "source": [
    "!python3 parallel_pipelines.py --num-processes 10 --output-folder /mnt/parsed_wesites"
   ]
  },
  {
   "cell_type": "markdown",
   "metadata": {},
   "source": [
    "315/464 Current website: https://keenthemes.com\n",
    "Class: textblock\n",
    ".jumbotron, .footer-single, .timeline-panel, .post-preview, .masthead-content, .intro-text, .p-5, .lead, .blockquote, .blog-post, .featurette-heading, .article, p, h1, h2, h3, h4, h5, h6, .review-text-sub-contents, .a-span1, .nav_a, reviewText, .a-text-bold, .a-text-normal, .s-item__title, s-item__price, .s-item__shipping, .s-item__hotness, .b-textlink, .a-link-normal.b-pageheader__text, .SECONDARY_INFO\n",
    "Class: section\n",
    ".section, .container, .page-section, .container-fluid, .history-wrapper, section, footer, header, .header, .rhf-border, .a-section, .ws-widget-container, .feature, .a-container\n",
    "Class: button\n",
    ".btn, .about__social, .btn-group, .social-media-link, .social-info, .social-buttons, .social, .social-icons, .social-profile, .social, .facebook, .twitter, .instagram, .google, .w5_btn_label, .a-button-input, .a-button-inner, .a-button-text, .a-box-inner, .ghspr\n",
    "Class: form\n",
    ".form-group, .input-group, .subscribe, .form-control\n",
    "316/464 Current website: https://getadmin4b.com/docs/pages/content/notification.html\n",
    "Class: textblock\n",
    ".jumbotron, .footer-single, .timeline-panel, .post-preview, .masthead-content, .intro-text, .p-5, .lead, .blockquote, .blog-post, .featurette-heading, .article, p, h1, h2, h3, h4, h5, h6, .review-text-sub-contents, .a-span1, .nav_a, reviewText, .a-text-bold, .a-text-normal, .s-item__title, s-item__price, .s-item__shipping, .s-item__hotness, .b-textlink, .a-link-normal.b-pageheader__text, .SECONDARY_INFO\n",
    "Class: section\n",
    ".section, .container, .page-section, .container-fluid, .history-wrapper, section, footer, header, .header, .rhf-border, .a-section, .ws-widget-container, .feature, .a-container\n",
    "Class: button\n",
    ".btn, .about__social, .btn-group, .social-media-link, .social-info, .social-buttons, .social, .social-icons, .social-profile, .social, .facebook, .twitter, .instagram, .google, .w5_btn_label, .a-button-input, .a-button-inner, .a-button-text, .a-box-inner, .ghspr\n",
    "Class: form\n",
    ".form-group, .input-group, .subscribe, .form-control\n",
    "317/464 Current website: https://www.webdomus.net/sviluppo-applicazione-mobile-ristorante-app-menu-ristorante/\n",
    "Class: textblock\n",
    ".jumbotron, .footer-single, .timeline-panel, .post-preview, .masthead-content, .intro-text, .p-5, .lead, .blockquote, .blog-post, .featurette-heading, .article, p, h1, h2, h3, h4, h5, h6, .review-text-sub-contents, .a-span1, .nav_a, reviewText, .a-text-bold, .a-text-normal, .s-item__title, s-item__price, .s-item__shipping, .s-item__hotness, .b-textlink, .a-link-normal.b-pageheader__text, .SECONDARY_INFO\n",
    "Class: section\n",
    ".section, .container, .page-section, .container-fluid, .history-wrapper, section, footer, header, .header, .rhf-border, .a-section, .ws-widget-container, .feature, .a-container\n",
    "Class: button\n",
    ".btn, .about__social, .btn-group, .social-media-link, .social-info, .social-buttons, .social, .social-icons, .social-profile, .social, .facebook, .twitter, .instagram, .google, .w5_btn_label, .a-button-input, .a-button-inner, .a-button-text, .a-box-inner, .ghspr\n",
    "Class: form\n",
    ".form-group, .input-group, .subscribe, .form-control\n",
    "318/464 Current website: https://colorlib.com/wp/creative-wordpress-themes/\n",
    "Failed for website: https://colorlib.com/wp/creative-wordpress-themes/\n",
    "Class: textblock\n",
    ".jumbotron, .footer-single, .timeline-panel, .post-preview, .masthead-content, .intro-text, .p-5, .lead, .blockquote, .blog-post, .featurette-heading, .article, p, h1, h2, h3, h4, h5, h6, .review-text-sub-contents, .a-span1, .nav_a, reviewText, .a-text-bold, .a-text-normal, .s-item__title, s-item__price, .s-item__shipping, .s-item__hotness, .b-textlink, .a-link-normal.b-pageheader__text, .SECONDARY_INFO\n",
    "Class: section\n",
    ".section, .container, .page-section, .container-fluid, .history-wrapper, section, footer, header, .header, .rhf-border, .a-section, .ws-widget-container, .feature, .a-container\n",
    "Class: button\n",
    ".btn, .about__social, .btn-group, .social-media-link, .social-info, .social-buttons, .social, .social-icons, .social-profile, .social, .facebook, .twitter, .instagram, .google, .w5_btn_label, .a-button-input, .a-button-inner, .a-button-text, .a-box-inner, .ghspr\n",
    "Class: form\n",
    ".form-group, .input-group, .subscribe, .form-control\n",
    "319/464 Current website: https://bootadmin.net/demo/base/tooltip\n",
    "Class: textblock\n",
    ".jumbotron, .footer-single, .timeline-panel, .post-preview, .masthead-content, .intro-text, .p-5, .lead, .blockquote, .blog-post, .featurette-heading, .article, p, h1, h2, h3, h4, h5, h6, .review-text-sub-contents, .a-span1, .nav_a, reviewText, .a-text-bold, .a-text-normal, .s-item__title, s-item__price, .s-item__shipping, .s-item__hotness, .b-textlink, .a-link-normal.b-pageheader__text, .SECONDARY_INFO\n",
    "Class: section\n",
    ".section, .container, .page-section, .container-fluid, .history-wrapper, section, footer, header, .header, .rhf-border, .a-section, .ws-widget-container, .feature, .a-container\n",
    "Class: button\n",
    ".btn, .about__social, .btn-group, .social-media-link, .social-info, .social-buttons, .social, .social-icons, .social-profile, .social, .facebook, .twitter, .instagram, .google, .w5_btn_label, .a-button-input, .a-button-inner, .a-button-text, .a-box-inner, .ghspr\n",
    "Class: form\n",
    ".form-group, .input-group, .subscribe, .form-control\n",
    "320/464 Current website: http://www.bootstrapdash.com/demo/material-admin/jquery/index.html\n",
    "Class: textblock\n",
    ".jumbotron, .footer-single, .timeline-panel, .post-preview, .masthead-content, .intro-text, .p-5, .lead, .blockquote, .blog-post, .featurette-heading, .article, p, h1, h2, h3, h4, h5, h6, .review-text-sub-contents, .a-span1, .nav_a, reviewText, .a-text-bold, .a-text-normal, .s-item__title, s-item__price, .s-item__shipping, .s-item__hotness, .b-textlink, .a-link-normal.b-pageheader__text, .SECONDARY_INFO\n",
    "Class: section\n",
    ".section, .container, .page-section, .container-fluid, .history-wrapper, section, footer, header, .header, .rhf-border, .a-section, .ws-widget-container, .feature, .a-container\n",
    "Class: button\n",
    ".btn, .about__social, .btn-group, .social-media-link, .social-info, .social-buttons, .social, .social-icons, .social-profile, .social, .facebook, .twitter, .instagram, .google, .w5_btn_label, .a-button-input, .a-button-inner, .a-button-text, .a-box-inner, .ghspr\n",
    "Class: form\n",
    ".form-group, .input-group, .subscribe, .form-control\n",
    "321/464 Current website: https://colorlib.com/shapely/portfolio/project-8/\n",
    "Class: textblock\n",
    ".jumbotron, .footer-single, .timeline-panel, .post-preview, .masthead-content, .intro-text, .p-5, .lead, .blockquote, .blog-post, .featurette-heading, .article, p, h1, h2, h3, h4, h5, h6, .review-text-sub-contents, .a-span1, .nav_a, reviewText, .a-text-bold, .a-text-normal, .s-item__title, s-item__price, .s-item__shipping, .s-item__hotness, .b-textlink, .a-link-normal.b-pageheader__text, .SECONDARY_INFO\n",
    "Class: section\n",
    ".section, .container, .page-section, .container-fluid, .history-wrapper, section, footer, header, .header, .rhf-border, .a-section, .ws-widget-container, .feature, .a-container\n",
    "Class: button\n",
    ".btn, .about__social, .btn-group, .social-media-link, .social-info, .social-buttons, .social, .social-icons, .social-profile, .social, .facebook, .twitter, .instagram, .google, .w5_btn_label, .a-button-input, .a-button-inner, .a-button-text, .a-box-inner, .ghspr\n",
    "Class: form\n",
    ".form-group, .input-group, .subscribe, .form-control\n",
    "322/464 Current website: https://gillion.shufflehound.com/tag/tricks/\n",
    "Class: textblock\n",
    ".jumbotron, .footer-single, .timeline-panel, .post-preview, .masthead-content, .intro-text, .p-5, .lead, .blockquote, .blog-post, .featurette-heading, .article, p, h1, h2, h3, h4, h5, h6, .review-text-sub-contents, .a-span1, .nav_a, reviewText, .a-text-bold, .a-text-normal, .s-item__title, s-item__price, .s-item__shipping, .s-item__hotness, .b-textlink, .a-link-normal.b-pageheader__text, .SECONDARY_INFO\n",
    "Class: section\n",
    ".section, .container, .page-section, .container-fluid, .history-wrapper, section, footer, header, .header, .rhf-border, .a-section, .ws-widget-container, .feature, .a-container\n",
    "Class: button\n",
    ".btn, .about__social, .btn-group, .social-media-link, .social-info, .social-buttons, .social, .social-icons, .social-profile, .social, .facebook, .twitter, .instagram, .google, .w5_btn_label, .a-button-input, .a-button-inner, .a-button-text, .a-box-inner, .ghspr\n",
    "Class: form\n",
    ".form-group, .input-group, .subscribe, .form-control\n",
    "323/464 Current website: https://bootstrapmade.com/plato-responsive-bootstrap-website-template/\n",
    "Class: textblock\n",
    ".jumbotron, .footer-single, .timeline-panel, .post-preview, .masthead-content, .intro-text, .p-5, .lead, .blockquote, .blog-post, .featurette-heading, .article, p, h1, h2, h3, h4, h5, h6, .review-text-sub-contents, .a-span1, .nav_a, reviewText, .a-text-bold, .a-text-normal, .s-item__title, s-item__price, .s-item__shipping, .s-item__hotness, .b-textlink, .a-link-normal.b-pageheader__text, .SECONDARY_INFO\n",
    "Class: section\n",
    ".section, .container, .page-section, .container-fluid, .history-wrapper, section, footer, header, .header, .rhf-border, .a-section, .ws-widget-container, .feature, .a-container\n",
    "Class: button\n",
    ".btn, .about__social, .btn-group, .social-media-link, .social-info, .social-buttons, .social, .social-icons, .social-profile, .social, .facebook, .twitter, .instagram, .google, .w5_btn_label, .a-button-input, .a-button-inner, .a-button-text, .a-box-inner, .ghspr\n",
    "Class: form\n",
    ".form-group, .input-group, .subscribe, .form-control\n",
    "324/464 Current website: https://www.pfind.com/reviews/pushcrew\n",
    "Class: textblock\n",
    ".jumbotron, .footer-single, .timeline-panel, .post-preview, .masthead-content, .intro-text, .p-5, .lead, .blockquote, .blog-post, .featurette-heading, .article, p, h1, h2, h3, h4, h5, h6, .review-text-sub-contents, .a-span1, .nav_a, reviewText, .a-text-bold, .a-text-normal, .s-item__title, s-item__price, .s-item__shipping, .s-item__hotness, .b-textlink, .a-link-normal.b-pageheader__text, .SECONDARY_INFO\n",
    "Class: section\n",
    ".section, .container, .page-section, .container-fluid, .history-wrapper, section, footer, header, .header, .rhf-border, .a-section, .ws-widget-container, .feature, .a-container\n",
    "Class: button\n",
    ".btn, .about__social, .btn-group, .social-media-link, .social-info, .social-buttons, .social, .social-icons, .social-profile, .social, .facebook, .twitter, .instagram, .google, .w5_btn_label, .a-button-input, .a-button-inner, .a-button-text, .a-box-inner, .ghspr\n",
    "Class: form\n",
    ".form-group, .input-group, .subscribe, .form-control\n",
    "325/464 Current website: https://www.pfind.com/reviews/correctenglish\n",
    "Class: textblock\n",
    ".jumbotron, .footer-single, .timeline-panel, .post-preview, .masthead-content, .intro-text, .p-5, .lead, .blockquote, .blog-post, .featurette-heading, .article, p, h1, h2, h3, h4, h5, h6, .review-text-sub-contents, .a-span1, .nav_a, reviewText, .a-text-bold, .a-text-normal, .s-item__title, s-item__price, .s-item__shipping, .s-item__hotness, .b-textlink, .a-link-normal.b-pageheader__text, .SECONDARY_INFO\n",
    "Class: section\n",
    ".section, .container, .page-section, .container-fluid, .history-wrapper, section, footer, header, .header, .rhf-border, .a-section, .ws-widget-container, .feature, .a-container\n",
    "Class: button\n",
    ".btn, .about__social, .btn-group, .social-media-link, .social-info, .social-buttons, .social, .social-icons, .social-profile, .social, .facebook, .twitter, .instagram, .google, .w5_btn_label, .a-button-input, .a-button-inner, .a-button-text, .a-box-inner, .ghspr\n",
    "Class: form\n",
    ".form-group, .input-group, .subscribe, .form-control\n",
    "326/464 Current website: https://bootstrapmade.com/buy/?theme=Regna\n",
    "Class: textblock\n",
    ".jumbotron, .footer-single, .timeline-panel, .post-preview, .masthead-content, .intro-text, .p-5, .lead, .blockquote, .blog-post, .featurette-heading, .article, p, h1, h2, h3, h4, h5, h6, .review-text-sub-contents, .a-span1, .nav_a, reviewText, .a-text-bold, .a-text-normal, .s-item__title, s-item__price, .s-item__shipping, .s-item__hotness, .b-textlink, .a-link-normal.b-pageheader__text, .SECONDARY_INFO\n",
    "Class: section\n",
    ".section, .container, .page-section, .container-fluid, .history-wrapper, section, footer, header, .header, .rhf-border, .a-section, .ws-widget-container, .feature, .a-container\n",
    "Class: button"
   ]
  }
 ],
 "metadata": {
  "kernelspec": {
   "display_name": "Python 3",
   "language": "python",
   "name": "python3"
  },
  "language_info": {
   "codemirror_mode": {
    "name": "ipython",
    "version": 3
   },
   "file_extension": ".py",
   "mimetype": "text/x-python",
   "name": "python",
   "nbconvert_exporter": "python",
   "pygments_lexer": "ipython3",
   "version": "3.7.4"
  }
 },
 "nbformat": 4,
 "nbformat_minor": 2
}
