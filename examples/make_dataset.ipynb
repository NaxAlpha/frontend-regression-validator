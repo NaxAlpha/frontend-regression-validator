{
 "cells": [
  {
   "cell_type": "markdown",
   "metadata": {},
   "source": [
    "### This is an example of how to make the dataset"
   ]
  },
  {
   "cell_type": "markdown",
   "metadata": {},
   "source": [
    "Run make_corpus.py with the following arguments \n",
    "* scraped-website-dir -> directory where the crawler saved its output\n",
    "* class-dirs -> crawled classes"
   ]
  },
  {
   "cell_type": "code",
   "execution_count": null,
   "metadata": {},
   "outputs": [],
   "source": [
    "!python3 make_corpus.py --scraped-website-dir /mnt/parsed_websites --class-dirs 'button' 'section' 'form' 'textblock' 'pics' "
   ]
  },
  {
   "cell_type": "markdown",
   "metadata": {},
   "source": [
    "1/20 -- Current website: 8947268785792067952\n",
    "Image has dimensions of 2028 by 16272\n",
    "Created images folder\n",
    "Painting textblock\n",
    "Saved segment mask to /mnt/parsed_websites/8947268785792067952/textblock/1.png\n",
    "Painting pics\n",
    "Saved segment mask to /mnt/parsed_websites/8947268785792067952/pics/1.png\n",
    "Painting section\n",
    "Saved segment mask to /mnt/parsed_websites/8947268785792067952/section/1.png\n",
    "Painting button\n",
    "Saved segment mask to /mnt/parsed_websites/8947268785792067952/button/1.png\n",
    "\n",
    "\n",
    "2/20 -- Current website: 5687794196293254892\n",
    "Image has dimensions of 1600 by 1200\n",
    "Created images folder\n",
    "Painting textblock\n",
    "Saved segment mask to /mnt/parsed_websites/5687794196293254892/textblock/2.png\n",
    "Painting pics\n",
    "Saved segment mask to /mnt/parsed_websites/5687794196293254892/pics/2.png\n",
    "Painting section\n",
    "Saved segment mask to /mnt/parsed_websites/5687794196293254892/section/2.png\n",
    "\n",
    "\n"
   ]
  }
 ],
 "metadata": {
  "kernelspec": {
   "display_name": "Python 3",
   "language": "python",
   "name": "python3"
  },
  "language_info": {
   "codemirror_mode": {
    "name": "ipython",
    "version": 3
   },
   "file_extension": ".py",
   "mimetype": "text/x-python",
   "name": "python",
   "nbconvert_exporter": "python",
   "pygments_lexer": "ipython3",
   "version": "3.7.4"
  }
 },
 "nbformat": 4,
 "nbformat_minor": 2
}
